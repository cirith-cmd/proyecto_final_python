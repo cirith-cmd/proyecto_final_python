{
 "cells": [
  {
   "cell_type": "markdown",
   "metadata": {},
   "source": [
    "Fuente: [https://www.kaggle.com/datasets/saurabhbadole/latest-data-science-job-salaries-2024?select=DataScience_salaries_2024.csv]"
   ]
  },
  {
   "cell_type": "code",
   "execution_count": 2,
   "metadata": {},
   "outputs": [],
   "source": [
    "import pandas as pd\n",
    "import numpy as np\n",
    "import matplotlib.pyplot as plt"
   ]
  },
  {
   "cell_type": "code",
   "execution_count": 3,
   "metadata": {},
   "outputs": [],
   "source": [
    "df = pd.read_csv(r'..\\data\\DataScience_salaries_2024.csv')"
   ]
  },
  {
   "cell_type": "markdown",
   "metadata": {},
   "source": [
    "## INTRODUCCION"
   ]
  },
  {
   "cell_type": "markdown",
   "metadata": {},
   "source": [
    "En el ámbito en constante evolución de la ciencia de datos, resulta esencial comprender las tendencias y patrones salariales para los profesionales y las organizaciones. El objetivo de este conjunto de datos es proporcionar una visión del panorama salarial en ciencia de datos desde 2020 hasta 2024. Al examinar estos datos a lo largo de este período, se busca permitir a quien desee obtener información valiosa sobre las tendencias salariales, las diferencias regionales y los factores potenciales que afectan la compensación en la comunidad de ciencia de datos. (lenguaje casual)\n",
    "- basarse en los graficos y ahora necesito redactar una introduccion del trabajo para dar entendr la intencion de lo q querias hacer. me interes es saber cuanto gana un empleado segun diversos parametros variables (mi intencion es conocer distintas realidades de los trabajadores en el ambito de la ciencia de datos)"
   ]
  },
  {
   "cell_type": "markdown",
   "metadata": {},
   "source": [
    "## METADATA"
   ]
  },
  {
   "cell_type": "markdown",
   "metadata": {},
   "source": [
    "    work_year(int): El año de los datos relacionados con el salario laboral.The year of the data related to the job salary.\n",
    "    experience_level (str): El nivel de experiencia del empleado (entry-level, mid-level, senior-level).\n",
    "    employment_type (str): El tipo de empleo (full-time, part-time, por contrato).\n",
    "    job_title (str): El título o rol del empleado dentro del campo de la ciencia de datos.\n",
    "    salary (int) : Salario del empleado en moneda local.\n",
    "    salary_currency (str): La moneda en la que se paga el salario.\n",
    "    salary_in_usd (int): El salario convertido a dólares estadounidenses para estandarización.\n",
    "    employee_residence (str): La ubicación de residencia del empleado.\n",
    "    remote_ratio (int): La proporción de trabajo remoto permitida para el puesto.\n",
    "    company_location (str): La ubicación de la empresa.\n",
    "    company_size (str): El tamaño de la empresa basado en el número de empleados o los ingresos.\n"
   ]
  },
  {
   "cell_type": "code",
   "execution_count": 6,
   "metadata": {},
   "outputs": [
    {
     "data": {
      "text/html": [
       "<div>\n",
       "<style scoped>\n",
       "    .dataframe tbody tr th:only-of-type {\n",
       "        vertical-align: middle;\n",
       "    }\n",
       "\n",
       "    .dataframe tbody tr th {\n",
       "        vertical-align: top;\n",
       "    }\n",
       "\n",
       "    .dataframe thead th {\n",
       "        text-align: right;\n",
       "    }\n",
       "</style>\n",
       "<table border=\"1\" class=\"dataframe\">\n",
       "  <thead>\n",
       "    <tr style=\"text-align: right;\">\n",
       "      <th></th>\n",
       "      <th>work_year</th>\n",
       "      <th>experience_level</th>\n",
       "      <th>employment_type</th>\n",
       "      <th>job_title</th>\n",
       "      <th>salary</th>\n",
       "      <th>salary_currency</th>\n",
       "      <th>salary_in_usd</th>\n",
       "      <th>employee_residence</th>\n",
       "      <th>remote_ratio</th>\n",
       "      <th>company_location</th>\n",
       "      <th>company_size</th>\n",
       "    </tr>\n",
       "  </thead>\n",
       "  <tbody>\n",
       "    <tr>\n",
       "      <th>0</th>\n",
       "      <td>2021</td>\n",
       "      <td>MI</td>\n",
       "      <td>FT</td>\n",
       "      <td>Data Scientist</td>\n",
       "      <td>30400000</td>\n",
       "      <td>CLP</td>\n",
       "      <td>40038</td>\n",
       "      <td>CL</td>\n",
       "      <td>100</td>\n",
       "      <td>CL</td>\n",
       "      <td>L</td>\n",
       "    </tr>\n",
       "    <tr>\n",
       "      <th>1</th>\n",
       "      <td>2021</td>\n",
       "      <td>MI</td>\n",
       "      <td>FT</td>\n",
       "      <td>BI Data Analyst</td>\n",
       "      <td>11000000</td>\n",
       "      <td>HUF</td>\n",
       "      <td>36259</td>\n",
       "      <td>HU</td>\n",
       "      <td>50</td>\n",
       "      <td>US</td>\n",
       "      <td>L</td>\n",
       "    </tr>\n",
       "    <tr>\n",
       "      <th>2</th>\n",
       "      <td>2020</td>\n",
       "      <td>MI</td>\n",
       "      <td>FT</td>\n",
       "      <td>Data Scientist</td>\n",
       "      <td>11000000</td>\n",
       "      <td>HUF</td>\n",
       "      <td>35735</td>\n",
       "      <td>HU</td>\n",
       "      <td>50</td>\n",
       "      <td>HU</td>\n",
       "      <td>L</td>\n",
       "    </tr>\n",
       "    <tr>\n",
       "      <th>3</th>\n",
       "      <td>2021</td>\n",
       "      <td>MI</td>\n",
       "      <td>FT</td>\n",
       "      <td>ML Engineer</td>\n",
       "      <td>8500000</td>\n",
       "      <td>JPY</td>\n",
       "      <td>77364</td>\n",
       "      <td>JP</td>\n",
       "      <td>50</td>\n",
       "      <td>JP</td>\n",
       "      <td>S</td>\n",
       "    </tr>\n",
       "    <tr>\n",
       "      <th>4</th>\n",
       "      <td>2022</td>\n",
       "      <td>SE</td>\n",
       "      <td>FT</td>\n",
       "      <td>Lead Machine Learning Engineer</td>\n",
       "      <td>7500000</td>\n",
       "      <td>INR</td>\n",
       "      <td>95386</td>\n",
       "      <td>IN</td>\n",
       "      <td>50</td>\n",
       "      <td>IN</td>\n",
       "      <td>L</td>\n",
       "    </tr>\n",
       "  </tbody>\n",
       "</table>\n",
       "</div>"
      ],
      "text/plain": [
       "   work_year experience_level employment_type                       job_title  \\\n",
       "0       2021               MI              FT                  Data Scientist   \n",
       "1       2021               MI              FT                 BI Data Analyst   \n",
       "2       2020               MI              FT                  Data Scientist   \n",
       "3       2021               MI              FT                     ML Engineer   \n",
       "4       2022               SE              FT  Lead Machine Learning Engineer   \n",
       "\n",
       "     salary salary_currency  salary_in_usd employee_residence  remote_ratio  \\\n",
       "0  30400000             CLP          40038                 CL           100   \n",
       "1  11000000             HUF          36259                 HU            50   \n",
       "2  11000000             HUF          35735                 HU            50   \n",
       "3   8500000             JPY          77364                 JP            50   \n",
       "4   7500000             INR          95386                 IN            50   \n",
       "\n",
       "  company_location company_size  \n",
       "0               CL            L  \n",
       "1               US            L  \n",
       "2               HU            L  \n",
       "3               JP            S  \n",
       "4               IN            L  "
      ]
     },
     "execution_count": 6,
     "metadata": {},
     "output_type": "execute_result"
    }
   ],
   "source": [
    "df.head()"
   ]
  },
  {
   "cell_type": "code",
   "execution_count": 8,
   "metadata": {},
   "outputs": [
    {
     "data": {
      "text/plain": [
       "(14838, 11)"
      ]
     },
     "execution_count": 8,
     "metadata": {},
     "output_type": "execute_result"
    }
   ],
   "source": [
    "df.shape #Dimensiones de la tabla (N°Filas,N°Columnas)."
   ]
  },
  {
   "cell_type": "code",
   "execution_count": 9,
   "metadata": {},
   "outputs": [
    {
     "name": "stdout",
     "output_type": "stream",
     "text": [
      "<class 'pandas.core.frame.DataFrame'>\n",
      "RangeIndex: 14838 entries, 0 to 14837\n",
      "Data columns (total 11 columns):\n",
      " #   Column              Non-Null Count  Dtype \n",
      "---  ------              --------------  ----- \n",
      " 0   work_year           14838 non-null  int64 \n",
      " 1   experience_level    14838 non-null  object\n",
      " 2   employment_type     14838 non-null  object\n",
      " 3   job_title           14838 non-null  object\n",
      " 4   salary              14838 non-null  int64 \n",
      " 5   salary_currency     14838 non-null  object\n",
      " 6   salary_in_usd       14838 non-null  int64 \n",
      " 7   employee_residence  14838 non-null  object\n",
      " 8   remote_ratio        14838 non-null  int64 \n",
      " 9   company_location    14838 non-null  object\n",
      " 10  company_size        14838 non-null  object\n",
      "dtypes: int64(4), object(7)\n",
      "memory usage: 1.2+ MB\n"
     ]
    }
   ],
   "source": [
    "df.info() #Muestra columnas del DataFrame"
   ]
  },
  {
   "cell_type": "markdown",
   "metadata": {},
   "source": [
    "Como el archivo tiene 14838 filas\n",
    "y no hay columnas que presenten menos\n",
    "de 14838 celdas no nulas se concluye \n",
    "que no hay falta de informacion."
   ]
  },
  {
   "cell_type": "markdown",
   "metadata": {},
   "source": [
    "Como el tipo de dato coincide con lo esperado no se encontraron errores en este aspecto."
   ]
  },
  {
   "cell_type": "code",
   "execution_count": 10,
   "metadata": {},
   "outputs": [
    {
     "data": {
      "text/plain": [
       "np.int64(5711)"
      ]
     },
     "execution_count": 10,
     "metadata": {},
     "output_type": "execute_result"
    }
   ],
   "source": [
    "df.duplicated().sum() #Cuenta cuantas filas duplicadas hay en el Data Frame."
   ]
  },
  {
   "cell_type": "markdown",
   "metadata": {},
   "source": [
    "Se han encontrado 5711 registros duplicados pero debido a la estructura misma del dataset se puede asumir que se tratan de personas distintas contratadas por la misma entrada, por el mismo cargo y por el mismo sueldo dado que no existe una llave primaria; se ha decidido conservar los registros duplicados. "
   ]
  },
  {
   "cell_type": "code",
   "execution_count": 11,
   "metadata": {},
   "outputs": [
    {
     "data": {
      "text/plain": [
       "array(['MI', 'SE', 'EN', 'EX'], dtype=object)"
      ]
     },
     "execution_count": 11,
     "metadata": {},
     "output_type": "execute_result"
    }
   ],
   "source": [
    "df['experience_level'].unique()"
   ]
  },
  {
   "cell_type": "markdown",
   "metadata": {},
   "source": [
    "#### Descripción de los niveles de experiencia\n",
    "     EN = entry-level\n",
    "     MI = mid-level \n",
    "     SE = senior-level\n",
    "     EX= expert-level"
   ]
  },
  {
   "cell_type": "code",
   "execution_count": 12,
   "metadata": {},
   "outputs": [
    {
     "data": {
      "text/plain": [
       "array(['FT', 'FL', 'CT', 'PT'], dtype=object)"
      ]
     },
     "execution_count": 12,
     "metadata": {},
     "output_type": "execute_result"
    }
   ],
   "source": [
    "df['employment_type'].unique()"
   ]
  },
  {
   "cell_type": "markdown",
   "metadata": {},
   "source": [
    "#### Descripción de tipos de contratos de empleo\n",
    "FT = Full-time\n",
    "FL = Free Lance\n",
    "CT = contract\n",
    "PT = Part-Time"
   ]
  },
  {
   "cell_type": "code",
   "execution_count": 13,
   "metadata": {},
   "outputs": [
    {
     "data": {
      "text/plain": [
       "array(['Data Scientist', 'BI Data Analyst', 'ML Engineer',\n",
       "       'Lead Machine Learning Engineer', 'Data Science Manager',\n",
       "       'Head of Machine Learning', 'Research Engineer',\n",
       "       'Head of Data Science', 'AI Programmer',\n",
       "       'Machine Learning Engineer', 'Lead Data Scientist',\n",
       "       'Data Engineer', 'Applied Machine Learning Scientist',\n",
       "       'Lead Data Analyst', 'Data Analytics Manager',\n",
       "       'Data Integration Specialist', 'Principal Data Architect',\n",
       "       'NLP Engineer', 'Big Data Engineer', 'AI Research Engineer',\n",
       "       'Machine Learning Software Engineer', 'Data Analyst',\n",
       "       'Applied Data Scientist', 'AI Scientist', 'Data Analytics Lead',\n",
       "       'Business Data Analyst', 'Product Data Analyst',\n",
       "       'Computer Vision Engineer', 'Data Science Consultant',\n",
       "       'AI Architect', 'Analytics Engineer', 'Machine Learning Scientist',\n",
       "       'Research Scientist', 'Prompt Engineer',\n",
       "       'Principal Data Scientist', 'Applied Scientist',\n",
       "       'Deep Learning Engineer', 'Data Architect', 'AI Engineer',\n",
       "       'Data Infrastructure Engineer', 'Data Science',\n",
       "       'Director of Data Science', 'Data Science Tech Lead', 'BI Analyst',\n",
       "       'Data Lead', 'Head of Data', 'Analytics Engineering Manager',\n",
       "       'Data Product Owner', 'Business Intelligence',\n",
       "       'Machine Learning Infrastructure Engineer', 'Research Analyst',\n",
       "       'Managing Director Data Science', 'Finance Data Analyst',\n",
       "       'Data Operations Engineer', 'Robotics Software Engineer',\n",
       "       'MLOps Engineer', 'Lead Data Engineer', 'AI Developer',\n",
       "       'Data Science Lead', 'Data Science Engineer',\n",
       "       'Business Intelligence Manager',\n",
       "       'Business Intelligence Specialist',\n",
       "       'Business Intelligence Engineer', 'Data Modeler',\n",
       "       'AWS Data Architect', 'Machine Learning Researcher',\n",
       "       'Data Product Manager', 'Data Strategy Manager', 'ETL Developer',\n",
       "       'Cloud Data Architect', 'Computational Biologist',\n",
       "       'AI Software Engineer', 'Data Strategist', 'Data Manager',\n",
       "       'Business Intelligence Analyst',\n",
       "       'Applied Machine Learning Engineer', 'Data Specialist',\n",
       "       'AI Product Manager', 'Data Science Director',\n",
       "       'Software Data Engineer', 'Data Operations Specialist',\n",
       "       'BI Developer', 'Machine Learning Modeler', 'Decision Scientist',\n",
       "       'Data Management Specialist', 'Data Analyst Lead',\n",
       "       'Marketing Data Analyst', 'Machine Learning Manager',\n",
       "       'Principal Data Engineer', 'Data Science Practitioner',\n",
       "       'ML Ops Engineer', 'Principal Machine Learning Engineer',\n",
       "       'Data Quality Engineer', 'Cloud Database Engineer',\n",
       "       'Staff Machine Learning Engineer', 'Data Visualization Specialist',\n",
       "       'Data Scientist Lead', 'Robotics Engineer',\n",
       "       'Data Integration Developer', 'Data Developer',\n",
       "       'Machine Learning Developer', 'Staff Data Analyst',\n",
       "       'Business Intelligence Developer', 'Business Intelligence Lead',\n",
       "       'Data Pipeline Engineer', 'Data Quality Analyst',\n",
       "       'Data Visualization Engineer', 'Principal Data Analyst',\n",
       "       'Staff Data Scientist', 'Data Integration Engineer',\n",
       "       'Machine Learning Operations Engineer', 'Consultant Data Engineer',\n",
       "       'Cloud Data Engineer', 'Data Analytics Specialist',\n",
       "       'Data Operations Analyst', 'Data Science Analyst',\n",
       "       'AI Research Scientist', 'ETL Engineer',\n",
       "       'Computer Vision Software Engineer', 'Data Management Analyst',\n",
       "       'Data Operations Manager', 'Data Analytics Engineer',\n",
       "       'Data Visualization Analyst', 'Financial Data Analyst',\n",
       "       'Manager Data Management', 'Big Data Architect',\n",
       "       'Data Analytics Consultant', 'Autonomous Vehicle Technician',\n",
       "       'Big Data Developer', 'Deep Learning Researcher',\n",
       "       'Machine Learning Research Engineer', 'Data Management Consultant',\n",
       "       'Azure Data Engineer', 'Business Intelligence Data Analyst',\n",
       "       'Data Analytics Associate', 'Data Reporting Analyst',\n",
       "       'Marketing Data Scientist', 'Data Modeller',\n",
       "       'Marketing Data Engineer', 'Data DevOps Engineer',\n",
       "       'Data Operations Associate', 'Machine Learning Specialist',\n",
       "       'Encounter Data Management Professional',\n",
       "       'Applied Research Scientist', 'Admin & Data Analyst',\n",
       "       'Power BI Developer', 'Compliance Data Analyst',\n",
       "       'Sales Data Analyst', 'BI Data Engineer', 'Data Quality Manager',\n",
       "       'Quantitative Research Analyst', 'Insight Analyst',\n",
       "       'CRM Data Analyst'], dtype=object)"
      ]
     },
     "execution_count": 13,
     "metadata": {},
     "output_type": "execute_result"
    }
   ],
   "source": [
    "df['job_title'].unique() \n",
    "# En esta columna no se encuentran errores de tipeo ni formato"
   ]
  },
  {
   "cell_type": "code",
   "execution_count": 14,
   "metadata": {},
   "outputs": [
    {
     "data": {
      "text/plain": [
       "array(['CLP', 'HUF', 'JPY', 'INR', 'ILS', 'NOK', 'THB', 'PHP', 'USD',\n",
       "       'MXN', 'ZAR', 'HKD', 'CAD', 'TRY', 'GBP', 'EUR', 'DKK', 'CHF',\n",
       "       'NZD', 'PLN', 'BRL', 'AUD', 'SGD'], dtype=object)"
      ]
     },
     "execution_count": 14,
     "metadata": {},
     "output_type": "execute_result"
    }
   ],
   "source": [
    "df['salary_currency'].unique() "
   ]
  },
  {
   "cell_type": "markdown",
   "metadata": {},
   "source": [
    "#### Descripción de Divisas.\n",
    "    AUD - Dólar australiano (Australian Dollar)\n",
    "    BRL - Real brasileño (Brazilian Real)\n",
    "    CAD - Dólar canadiense (Canadian Dollar)\n",
    "    CHF - Franco suizo (Swiss Franc)\n",
    "    CLP - Peso chileno (Chilean Peso)\n",
    "    DKK - Corona danesa (Danish Krone)\n",
    "    EUR - Euro (Euro)\n",
    "    GBP - Libra esterlina (British Pound)\n",
    "    HKD - Dólar de Hong Kong (Hong Kong Dollar)\n",
    "    HUF - Florín húngaro (Hungarian Forint)\n",
    "    ILS - Nuevo shéquel israelí (Israeli New Shekel)\n",
    "    INR - Rupia india (Indian Rupee)\n",
    "    JPY - Yen japonés (Japanese Yen)\n",
    "    MXN - Peso mexicano (Mexican Peso)\n",
    "    NOK - Corona noruega (Norwegian Krone)\n",
    "    NZD - Dólar neozelandés (New Zealand Dollar)\n",
    "    PHP - Peso filipino (Philippine Peso)\n",
    "    PLN - Zloty polaco (Polish Zloty)\n",
    "    SGD - Dólar de Singapur (Singapore Dollar)\n",
    "    THB - Baht tailandés (Thai Baht)\n",
    "    TRY - Lira turca (Turkish Lira)\n",
    "    USD - Dólar estadounidense (United States Dollar)\n",
    "    ZAR - Rand sudafricano (South African Rand)"
   ]
  },
  {
   "cell_type": "code",
   "execution_count": 15,
   "metadata": {},
   "outputs": [
    {
     "data": {
      "text/plain": [
       "array(['CL', 'HU', 'JP', 'IN', 'IL', 'NO', 'TH', 'PH', 'CA', 'MX', 'US',\n",
       "       'ZA', 'HK', 'TR', 'GB', 'QA', 'AU', 'FR', 'DK', 'CH', 'DE', 'ES',\n",
       "       'EG', 'UA', 'RU', 'PL', 'NZ', 'BE', 'NG', 'PR', 'MY', 'BR', 'SA',\n",
       "       'IE', 'SG', 'TN', 'PT', 'NL', 'CO', 'SE', 'IT', 'CN', 'BA', 'AE',\n",
       "       'MD', 'LT', 'DO', 'UZ', 'MU', 'FI', 'IR', 'DZ', 'IQ', 'JE', 'AR',\n",
       "       'HR', 'SI', 'LB', 'AT', 'VN', 'KE', 'GR', 'BG', 'MT', 'LV', 'BO',\n",
       "       'CZ', 'RO', 'CY', 'GE', 'GH', 'KR', 'EE', 'PK', 'KW', 'AM', 'LU',\n",
       "       'AD', 'OM', 'AS', 'CF', 'UG', 'PE', 'RS', 'CR', 'HN', 'EC', 'ID'],\n",
       "      dtype=object)"
      ]
     },
     "execution_count": 15,
     "metadata": {},
     "output_type": "execute_result"
    }
   ],
   "source": [
    "df['employee_residence'].unique() \n",
    "# No hay errores de formato ni tipeo para esta columna"
   ]
  },
  {
   "cell_type": "markdown",
   "metadata": {},
   "source": [
    "#### Descripción países\n",
    "    AD - Andorra\n",
    "    AE - Emiratos Árabes Unidos (United Arab Emirates)\n",
    "    AF - Afganistán (Afghanistan)\n",
    "    AG - Antigua y Barbuda (Antigua and Barbuda)\n",
    "    AI - Anguila (Anguilla)\n",
    "    AL - Albania\n",
    "    AM - Armenia\n",
    "    AO - Angola\n",
    "    AR - Argentina\n",
    "    AS - Samoa Americana (American Samoa)\n",
    "    AT - Austria\n",
    "    AU - Australia\n",
    "    AW - Aruba\n",
    "    AX - Islas Åland (Åland Islands)\n",
    "    AZ - Azerbaiyán (Azerbaijan)\n",
    "    BA - Bosnia y Herzegovina (Bosnia and Herzegovina)\n",
    "    BB - Barbados\n",
    "    BD - Bangladés (Bangladesh)\n",
    "    BE - Bélgica (Belgium)\n",
    "    BF - Burkina Faso\n",
    "    BG - Bulgaria\n",
    "    BH - Bahréin (Bahrain)\n",
    "    BI - Burundi\n",
    "    BJ - Benín (Benin)\n",
    "    BL - San Bartolomé (Saint Barthélemy)\n",
    "    BM - Bermudas (Bermuda)\n",
    "    BN - Brunéi (Brunei)\n",
    "    BO - Bolivia\n",
    "    BQ - Bonaire, San Eustaquio y Saba (Bonaire, Sint Eustatius and Saba)\n",
    "    BR - Brasil (Brazil)\n",
    "    BS - Las Bahamas (Bahamas)\n",
    "    BT - Bután (Bhutan)\n",
    "    BV - Isla Bouvet (Bouvet Island)\n",
    "    BW - Botsuana (Botswana)\n",
    "    BY - Bielorrusia (Belarus)\n",
    "    BZ - Belice (Belize)\n",
    "    CA - Canadá (Canada)\n",
    "    CC - Islas Cocos (Cocos (Keeling) Islands)\n",
    "    CD - República Democrática del Congo (Democratic Republic of the Congo)\n",
    "    CF - República Centroafricana (Central African Republic)\n",
    "    CG - República del Congo (Republic of the Congo)\n",
    "    CH - Suiza (Switzerland)\n",
    "    CI - Costa de Marfil (Ivory Coast)\n",
    "    CK - Islas Cook (Cook Islands)\n",
    "    CL - Chile\n",
    "    CM - Camerún (Cameroon)\n",
    "    CN - China\n",
    "    CO - Colombia\n",
    "    CR - Costa Rica\n",
    "    CU - Cuba\n",
    "    CV - Cabo Verde (Cape Verde)\n",
    "    CW - Curazao (Curaçao)\n",
    "    CX - Isla Christmas (Christmas Island)\n",
    "    CY - Chipre (Cyprus)\n",
    "    CZ - Chequia (Czech Republic)\n",
    "    DE - Alemania (Germany)\n",
    "    DJ - Yibuti (Djibouti)\n",
    "    DK - Dinamarca (Denmark)\n",
    "    DM - Dominica\n",
    "    DO - República Dominicana (Dominican Republic)\n",
    "    DZ - Argelia (Algeria)\n",
    "    EC - Ecuador\n",
    "    EE - Estonia\n",
    "    EG - Egipto (Egypt)\n",
    "    EH - Sahara Occidental (Western Sahara)\n",
    "    ER - Eritrea\n",
    "    ES - España (Spain)\n",
    "    ET - Etiopía (Ethiopia)\n",
    "    FI - Finlandia (Finland)\n",
    "    FJ - Fiyi (Fiji)\n",
    "    FM - Estados Federados de Micronesia (Federated States of Micronesia)\n",
    "    FO - Islas Feroe (Faroe Islands)\n",
    "    FR - Francia (France)\n",
    "    GA - Gabón (Gabon)\n",
    "    GB - Reino Unido (United Kingdom)\n",
    "    GD - Granada (Grenada)\n",
    "    GE - Georgia\n",
    "    GF - Guayana Francesa (French Guiana)\n",
    "    GG - Guernsey\n",
    "    GH - Ghana\n",
    "    GI - Gibraltar\n",
    "    GL - Groenlandia (Greenland)\n",
    "    GM - Gambia\n",
    "    GN - Guinea\n",
    "    GP - Guadalupe (Guadeloupe)\n",
    "    GQ - Guinea Ecuatorial (Equatorial Guinea)\n",
    "    GR - Grecia (Greece)\n",
    "    GT - Guatemala\n",
    "    GU - Guam\n",
    "    GW - Guinea-Bisáu (Guinea-Bissau)\n",
    "    GY - Guyana\n",
    "    HK - Hong Kong\n",
    "    HM - Islas Heard y McDonald (Heard Island and McDonald Islands)\n",
    "    HN - Honduras\n",
    "    HR - Croacia (Croatia)\n",
    "    HT - Haití (Haiti)\n",
    "    HU - Hungría (Hungary)\n",
    "    ID - Indonesia\n",
    "    IE - Irlanda (Ireland)\n",
    "    IL - Israel\n",
    "    IM - Isla de Man (Isle of Man)\n",
    "    IN - India\n",
    "    IO - Territorio Británico del Océano Índico (British Indian Ocean Territory)\n",
    "    IQ - Irak (Iraq)\n",
    "    IR - Irán (Iran)\n",
    "    IS - Islandia (Iceland)\n",
    "    IT - Italia (Italy)\n",
    "    JE - Jersey\n",
    "    JM - Jamaica\n",
    "    JO - Jordania (Jordan)\n",
    "    JP - Japón (Japan)\n",
    "    KE - Kenia (Kenya)\n",
    "    KG - Kirguistán (Kyrgyzstan)\n",
    "    KH - Camboya (Cambodia)\n",
    "    KI - Kiribati\n",
    "    KM - Comoras (Comoros)\n",
    "    KN - San Cristóbal y Nieves (Saint Kitts and Nevis)\n",
    "    KP - Corea del Norte (North Korea)\n",
    "    KR - Corea del Sur (South Korea)\n",
    "    KW - Kuwait\n",
    "    KY - Islas Caimán (Cayman Islands)\n",
    "    KZ - Kazajistán (Kazakhstan)\n",
    "    LA - Laos\n",
    "    LB - Líbano (Lebanon)\n",
    "    LC - Santa Lucía (Saint Lucia)\n",
    "    LI - Liechtenstein\n",
    "    LK - Sri Lanka\n",
    "    LR - Liberia\n",
    "    LS - Lesoto (Lesotho)\n",
    "    LT - Lituania (Lithuania)\n",
    "    LU - Luxemburgo (Luxembourg)\n",
    "    LV - Letonia (Latvia)\n",
    "    LY - Libia (Libya)\n",
    "    MA - Marruecos (Morocco)\n",
    "    MC - Mónaco (Monaco)\n",
    "    MD - Moldavia (Moldova)\n",
    "    ME - Montenegro\n",
    "    MF - San Martín (Saint Martin)\n",
    "    MG - Madagascar\n",
    "    MH - Islas Marshall (Marshall Islands)\n",
    "    MK - Macedonia del Norte (North Macedonia)\n",
    "    ML - Malí (Mali)\n",
    "    MM - Birmania (Myanmar)\n",
    "    MN - Mongolia\n",
    "    MO - Macao (Macao)\n",
    "    MP - Islas Marianas del Norte (Northern Mariana Islands)\n",
    "    MQ - Martinica (Martinique)\n",
    "    MR - Mauritania\n",
    "    MS - Montserrat\n",
    "    MT - Malta\n",
    "    MU - Mauricio (Mauritius)\n",
    "    MV - Maldivas (Maldives)\n",
    "    MW - Malaui (Malawi)\n",
    "    MX - México (Mexico)\n",
    "    MY - Malasia (Malaysia)\n",
    "    MZ - Mozambique\n",
    "    NA - Namibia\n",
    "    NC - Nueva Caledonia (New Caledonia)\n",
    "    NE - Níger (Niger)\n",
    "    NF - Isla Norfolk (Norfolk Island)\n",
    "    NG - Nigeria\n",
    "    NI - Nicaragua\n",
    "    NL - Países Bajos (Netherlands)\n",
    "    NO - Noruega (Norway)\n",
    "    NP - Nepal\n",
    "    NR - Nauru\n",
    "    NU - Niue\n",
    "    NZ - Nueva Zelanda (New Zealand)\n",
    "    OM - Omán (Oman)\n",
    "    PA - Panamá (Panama)\n",
    "    PE - Perú (Peru)\n",
    "    PF - Polinesia Francesa (French Polynesia)\n",
    "    PG - Papúa Nueva Guinea (Papua New Guinea)\n",
    "    PH - Filipinas (Philippines)\n",
    "    PK - Pakistán (Pakistan)\n",
    "    PL - Polonia (Poland)\n",
    "    PM - San Pedro y Miquelón (Saint Pierre and Miquelon)\n",
    "    PN - Islas Pitcairn (Pitcairn Islands)\n",
    "    PR - Puerto Rico (Puerto Rico)\n",
    "    PT - Portugal\n",
    "    PW - Palaos (Palau)\n",
    "    PY - Paraguay\n",
    "    QA - Catar (Qatar)\n",
    "    RE - Reunión (Réunion)\n",
    "    RO - Rumania (Romania)\n",
    "    RS - Serbia\n",
    "    RU - Rusia (Russia)\n",
    "    RW - Ruanda (Rwanda)\n",
    "    SA - Arabia Saudita (Saudi Arabia)\n",
    "    SB - Islas Salomón (Solomon Islands)\n",
    "    SC - Seychelles\n",
    "    SD - Sudán (Sudan)\n",
    "    SE - Suecia (Sweden)\n",
    "    SG - Singapur (Singapore)\n",
    "    SH - Santa Elena (Saint Helena)\n",
    "    SI - Eslovenia (Slovenia)\n",
    "    SJ - Svalbard y Jan Mayen (Svalbard and Jan Mayen)\n",
    "    SK - Eslovaquia (Slovakia)\n",
    "    SL - Sierra Leona (Sierra Leone)\n",
    "    SM - San Marino (San Marino)\n",
    "    SN - Senegal\n",
    "    SO - Somalia\n",
    "    SR - Surinam (Suriname)\n",
    "    SS - Sudán del Sur (South Sudan)\n",
    "    ST - Santo Tomé y Príncipe (São Tomé and Príncipe)\n",
    "    SV - El Salvador\n",
    "    SX - Sint Maarten\n",
    "    SY - Siria (Syria)\n",
    "    SZ - Suazilandia (Eswatini)\n",
    "    TC - Islas Turcas y Caicos (Turks and Caicos Islands)\n",
    "    TD - Chad\n",
    "    TF - Territorios Australes Franceses (French Southern Territories)\n",
    "    TG - Togo\n",
    "    TH - Tailandia (Thailand)\n",
    "    TJ - Tayikistán (Tajikistan)\n",
    "    TK - Tokelau\n",
    "    TL - Timor Oriental (Timor-Leste)\n",
    "    TM - Turkmenistán (Turkmenistan)\n",
    "    TN - Túnez (Tunisia)\n",
    "    TO - Tonga\n",
    "    TR - Turquía (Turkey)\n",
    "    TT - Trinidad y Tobago (Trinidad and Tobago)\n",
    "    TV - Tuvalu\n",
    "    TZ - Tanzania\n",
    "    UA - Ucrania (Ukraine)\n",
    "    UG - Uganda\n",
    "    UM - Islas Ultramarinas Menores de Estados Unidos (U.S. Minor Outlying Islands)\n",
    "    US - Estados Unidos (United States)\n",
    "    UY - Uruguay\n",
    "    UZ - Uzbekistán (Uzbekistan)\n",
    "    VA - Ciudad del Vaticano (Vatican City)\n",
    "    VC - San Vicente y las Granadinas (Saint Vincent and the Grenadines)\n",
    "    VE - Venezuela\n",
    "    VG - Islas Vírgenes Británicas (British Virgin Islands)\n",
    "    VI - Islas Vírgenes de los EE.UU. (U.S. Virgin Islands)\n",
    "    VN - Vietnam\n",
    "    VU - Vanuatu\n",
    "    WF - Wallis y Futuna (Wallis and Futuna)\n",
    "    WS - Samoa (Samoa)\n",
    "    YE - Yemen\n",
    "    YT - Mayotte\n",
    "    ZA - Sudáfrica (South Africa)\n",
    "    ZM - Zambia\n",
    "    ZW - Zimbabue (Zimbabwe)"
   ]
  },
  {
   "cell_type": "code",
   "execution_count": 16,
   "metadata": {},
   "outputs": [
    {
     "data": {
      "text/plain": [
       "array(['CL', 'US', 'HU', 'JP', 'IN', 'ID', 'DE', 'CH', 'IL', 'SG', 'AS',\n",
       "       'NO', 'TH', 'PH', 'CA', 'MX', 'ZA', 'HK', 'TR', 'GB', 'QA', 'AU',\n",
       "       'DK', 'ES', 'FR', 'EG', 'UA', 'RU', 'PL', 'NZ', 'NG', 'PR', 'BR',\n",
       "       'SA', 'IE', 'NL', 'CO', 'SE', 'BA', 'AE', 'LT', 'PT', 'MU', 'CZ',\n",
       "       'FI', 'IR', 'DZ', 'IQ', 'CN', 'AR', 'HR', 'SI', 'LB', 'AT', 'VN',\n",
       "       'KE', 'GR', 'BE', 'MT', 'LV', 'IT', 'GI', 'RO', 'EE', 'LU', 'KR',\n",
       "       'AM', 'AD', 'OM', 'BS', 'CF', 'PK', 'MY', 'GH', 'HN', 'MD', 'EC'],\n",
       "      dtype=object)"
      ]
     },
     "execution_count": 16,
     "metadata": {},
     "output_type": "execute_result"
    }
   ],
   "source": [
    "df['company_location'].unique()\n",
    "# No hay errores de formato ni tipeo para esta columna"
   ]
  },
  {
   "cell_type": "code",
   "execution_count": 17,
   "metadata": {},
   "outputs": [
    {
     "data": {
      "text/plain": [
       "array(['L', 'S', 'M'], dtype=object)"
      ]
     },
     "execution_count": 17,
     "metadata": {},
     "output_type": "execute_result"
    }
   ],
   "source": [
    "df['company_size'].unique()"
   ]
  },
  {
   "cell_type": "markdown",
   "metadata": {},
   "source": [
    "#### Descripcion tamaño empresas\n",
    "S = Small (Pequeña)\n",
    "M = Medium (Media)\n",
    "L = Larga (Grande)"
   ]
  }
 ],
 "metadata": {
  "kernelspec": {
   "display_name": "Python 3 (ipykernel)",
   "language": "python",
   "name": "python3"
  },
  "language_info": {
   "codemirror_mode": {
    "name": "ipython",
    "version": 3
   },
   "file_extension": ".py",
   "mimetype": "text/x-python",
   "name": "python",
   "nbconvert_exporter": "python",
   "pygments_lexer": "ipython3",
   "version": "3.12.4"
  }
 },
 "nbformat": 4,
 "nbformat_minor": 4
}
